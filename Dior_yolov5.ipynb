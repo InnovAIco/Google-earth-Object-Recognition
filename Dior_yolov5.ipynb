{
  "nbformat": 4,
  "nbformat_minor": 0,
  "metadata": {
    "colab": {
      "name": "Dior-yolov5.ipynb",
      "provenance": [],
      "collapsed_sections": []
    },
    "kernelspec": {
      "name": "python3",
      "display_name": "Python 3"
    },
    "accelerator": "GPU"
  },
  "cells": [
    {
      "cell_type": "code",
      "metadata": {
        "id": "LQZ7m6Bar5n5"
      },
      "source": [
        "!nvidia-smi"
      ],
      "execution_count": null,
      "outputs": []
    },
    {
      "cell_type": "code",
      "metadata": {
        "id": "IbrLFE2sff46"
      },
      "source": [
        "import shutil\n",
        "import os\n",
        "import cv2\n",
        "import csv\n",
        "import numpy as np\n",
        "import pandas as pd"
      ],
      "execution_count": 2,
      "outputs": []
    },
    {
      "cell_type": "code",
      "metadata": {
        "id": "yKvhJ1ibpI4K"
      },
      "source": [
        "import shutil\r\n",
        "shutil.unpack_archive('drive/MyDrive/JPEGImages-trainval.zip','data')"
      ],
      "execution_count": 3,
      "outputs": []
    },
    {
      "cell_type": "code",
      "metadata": {
        "id": "tyHjd3zmpI7K"
      },
      "source": [
        "import shutil\r\n",
        "shutil.unpack_archive('drive/MyDrive/Annotations.zip','gt')"
      ],
      "execution_count": 4,
      "outputs": []
    },
    {
      "cell_type": "code",
      "metadata": {
        "id": "VA36M9OZnPW9"
      },
      "source": [
        "pip install rarfile"
      ],
      "execution_count": null,
      "outputs": []
    },
    {
      "cell_type": "code",
      "metadata": {
        "id": "i2fPn0AdlkUM"
      },
      "source": [
        "import rarfile\r\n",
        "rar = rarfile.RarFile('drive/MyDrive/ProvoSuperCubeNNref.rar')\r\n",
        "rar.extractall()"
      ],
      "execution_count": 6,
      "outputs": []
    },
    {
      "cell_type": "code",
      "metadata": {
        "id": "ywt0v_ARVNkL"
      },
      "source": [
        "shutil.unpack_archive('drive/MyDrive/training-20201219T093629Z-001.zip','new')"
      ],
      "execution_count": 7,
      "outputs": []
    },
    {
      "cell_type": "code",
      "metadata": {
        "id": "0F86uidZWwr9"
      },
      "source": [
        "for r,d,f in os.walk('/content/new/training/data/labels/train'):\r\n",
        "  for file in f:\r\n",
        "    if '.txt' in file:\r\n",
        "      shutil.copy(os.path.join(r,file),'/content/new/training/data/images/train')\r\n",
        "\r\n",
        "for r,d,f in os.walk('/content/new/training/data/labels/valid'):\r\n",
        "  for file in f:\r\n",
        "    if '.txt' in file:\r\n",
        "      shutil.copy(os.path.join(r,file),'/content/new/training/data/images/valid')"
      ],
      "execution_count": 12,
      "outputs": []
    },
    {
      "cell_type": "code",
      "metadata": {
        "id": "lCZaEZigpI-A"
      },
      "source": [
        "import os\r\n",
        "import cv2\r\n",
        "import numpy as np\r\n",
        "import csv\r\n",
        "import xml.etree.ElementTree as ET\r\n",
        "import shutil\r\n",
        "import random\r\n",
        "\r\n",
        "\r\n",
        "available_imgs=os.listdir('data/JPEGImages-trainval')\r\n",
        "xml_files=[]\r\n",
        "for r,d,f in os.walk('gt'):\r\n",
        "    for file in f:\r\n",
        "        if '.xml' in file:\r\n",
        "            xml_files.append('{}/{}'.format(r,file))\r\n",
        "\r\n",
        "data=[]\r\n",
        "for xml_file in xml_files:\r\n",
        "    tree = ET.parse(xml_file)\r\n",
        "    ref_name='data/JPEGImages-trainval/'+xml_file[3:-4]+'.jpg'\r\n",
        "    if xml_file[3:-4]+'.jpg' not in available_imgs:\r\n",
        "      continue\r\n",
        "    root = tree.getroot()   \r\n",
        "    list_with_all_boxes = []    \r\n",
        "    for boxes in root.iter('object'):    \r\n",
        "        if boxes.find(\"name\").text not in [\"airplane\",\"vehicle\",\"airport\"]:\r\n",
        "          continue\r\n",
        "        ymin, xmin, ymax, xmax = None, None, None, None\r\n",
        "    \r\n",
        "        ymin = int(boxes.find(\"bndbox/ymin\").text)\r\n",
        "        xmin = int(boxes.find(\"bndbox/xmin\").text)\r\n",
        "        ymax = int(boxes.find(\"bndbox/ymax\").text)\r\n",
        "        xmax = int(boxes.find(\"bndbox/xmax\").text) \r\n",
        "        class_name=boxes.find(\"name\").text\r\n",
        "        list_with_single_boxes = [xmin, ymin, xmax, ymax]\r\n",
        "        data.append([ref_name,list_with_single_boxes,class_name])\r\n",
        "\r\n",
        "for da in data:\r\n",
        "  if da[1][1]>=da[1][3] or da[1][0]>=da[1][2]:\r\n",
        "    data.remove(da)\r\n",
        "  "
      ],
      "execution_count": 13,
      "outputs": []
    },
    {
      "cell_type": "code",
      "metadata": {
        "id": "S2OXeJyxtKW3"
      },
      "source": [
        "names={}\r\n",
        "for da in data:\r\n",
        "    if da[0] not in names:\r\n",
        "        names[da[0]]=[]\r\n",
        "    names[da[0]].append([da[0],da[1][0],da[1][1],da[1][2],da[1][3],da[2]])\r\n",
        "train_names=list(names.keys())[:1000]\r\n",
        "test_names=list(names.keys())[1000:1500]"
      ],
      "execution_count": 15,
      "outputs": []
    },
    {
      "cell_type": "code",
      "metadata": {
        "id": "MUr9IN6Y2JCF"
      },
      "source": [
        "\"\"\"\r\n",
        "classes={}\r\n",
        "for da in data:\r\n",
        "  if da[0] in train_names:\r\n",
        "    if da[-1] not in classes:\r\n",
        "      classes[da[-1]]=0\r\n",
        "    classes[da[-1]]+=1\r\n",
        "labels_to_names={}\r\n",
        "labels_to_names2={}\r\n",
        "for cl in classes:\r\n",
        "  if cl not in labels_to_names:\r\n",
        "    labels_to_names[cl]=len(labels_to_names)\r\n",
        "    labels_to_names2[len(labels_to_names)-1]=cl\r\n",
        "sorted=[None for i in range(20)]\r\n",
        "for l in labels_to_names:\r\n",
        "sorted[labels_to_names[l]]=l\r\n",
        "\"\"\""
      ],
      "execution_count": 16,
      "outputs": []
    },
    {
      "cell_type": "code",
      "metadata": {
        "id": "X3mZI95r7YO_"
      },
      "source": [
        "labels_to_names={\"pools\":1,\"vehicle\":0,\"airplane\":2,\"airport\":3}"
      ],
      "execution_count": 19,
      "outputs": []
    },
    {
      "cell_type": "code",
      "metadata": {
        "id": "0mHnEWCF2IXw"
      },
      "source": [
        "for key in names:\r\n",
        "        img=cv2.imread(key)\r\n",
        "        file1 = open(\"{}.txt\".format(key[:-4]),\"w\") \r\n",
        "        h=img.shape[0]\r\n",
        "        w=img.shape[1]\r\n",
        "        for item in names[key]:\r\n",
        "            x=round(((int(item[3])+int(item[1]))/2)/w,6)\r\n",
        "            y=round(((int(item[4])+int(item[2]))/2)/h,6)\r\n",
        "            dw=round((int(item[3])-int(item[1]))/w,6)\r\n",
        "            dh=round((int(item[4])-int(item[2]))/h,6)\r\n",
        "            L=[\"{} {} {} {} {}\\n\".format(labels_to_names[item[5]], x, y, dw, dh)]\r\n",
        "            file1.writelines(L) \r\n",
        "        file1.close()   "
      ],
      "execution_count": 20,
      "outputs": []
    },
    {
      "cell_type": "code",
      "metadata": {
        "id": "XYb0iNuPtKZw"
      },
      "source": [
        "file1 = open(\"train.txt\",\"w\") \r\n",
        "for r,d,f in os.walk('data'):\r\n",
        "    for file in f:\r\n",
        "        if '.jpg' in file and 'data/JPEGImages-trainval/{}'.format(file) in train_names:\r\n",
        "            file1.write('data/JPEGImages-trainval/{}\\n'.format(file))\r\n",
        "\r\n",
        "for r,d,f in os.walk('/content/new/training/data/images/train'):\r\n",
        "    for file in f:\r\n",
        "        if '.jpg' in file:\r\n",
        "          file1.write('new/training/data/images/train/{}\\n'.format(file))\r\n",
        "file1.close()     \r\n",
        "\r\n",
        "file1 = open(\"test.txt\",\"w\") \r\n",
        "for r,d,f in os.walk('data'):\r\n",
        "    for file in f:\r\n",
        "        if '.jpg' in file and 'data/JPEGImages-trainval/{}'.format(file) in test_names:\r\n",
        "            file1.write('data/JPEGImages-trainval/{}\\n'.format(file))\r\n",
        "for r,d,f in os.walk('/content/new/training/data/images/valid'):\r\n",
        "    for file in f:\r\n",
        "        if '.jpg' in file:\r\n",
        "          file1.write('new/training/data/images/valid/{}\\n'.format(file))\r\n",
        "file1.close()  "
      ],
      "execution_count": 22,
      "outputs": []
    },
    {
      "cell_type": "code",
      "metadata": {
        "id": "IeL0NFh-pJA4"
      },
      "source": [
        ""
      ],
      "execution_count": null,
      "outputs": []
    },
    {
      "cell_type": "code",
      "metadata": {
        "id": "voErvHfJhHaR"
      },
      "source": [
        "!git clone 'https://github.com/ultralytics/yolov5'"
      ],
      "execution_count": null,
      "outputs": []
    },
    {
      "cell_type": "code",
      "metadata": {
        "id": "im6lzPuHtBL3"
      },
      "source": [
        "cd yolov5"
      ],
      "execution_count": null,
      "outputs": []
    },
    {
      "cell_type": "code",
      "metadata": {
        "id": "3ZjoC4VTtCfO"
      },
      "source": [
        "!pip install -r requirements.txt"
      ],
      "execution_count": null,
      "outputs": []
    },
    {
      "cell_type": "code",
      "metadata": {
        "id": "lDuAdTb2tEa5"
      },
      "source": [
        "cd .."
      ],
      "execution_count": null,
      "outputs": []
    },
    {
      "cell_type": "code",
      "metadata": {
        "id": "_ZfT_Hx-tGmv"
      },
      "source": [
        "!python 'yolov5/train.py' --img-size=800 --batch 12 --epochs 20  --data 'yolov5/data/coco.yaml' --cfg 'yolov5/models/yolov5l.yaml' --weights 'runs/train/exp3/weights/best.pt' --device 0"
      ],
      "execution_count": null,
      "outputs": []
    },
    {
      "cell_type": "code",
      "metadata": {
        "id": "YaJP4JdBwQPU"
      },
      "source": [
        "!cp '/content/runs/train/exp/weights/best.pt' 'drive/MyDrive/dior-yolov5.pt'"
      ],
      "execution_count": 34,
      "outputs": []
    },
    {
      "cell_type": "code",
      "metadata": {
        "colab": {
          "base_uri": "https://localhost:8080/",
          "height": 35
        },
        "id": "xpGUNFWfD39y",
        "outputId": "de13bea5-1992-40be-c696-6b2c8c6b943b"
      },
      "source": [
        "shutil.make_archive('yolov5-dior','zip','/content/runs/train/exp8')"
      ],
      "execution_count": 42,
      "outputs": [
        {
          "output_type": "execute_result",
          "data": {
            "application/vnd.google.colaboratory.intrinsic+json": {
              "type": "string"
            },
            "text/plain": [
              "'/content/yolov5-dior.zip'"
            ]
          },
          "metadata": {
            "tags": []
          },
          "execution_count": 42
        }
      ]
    },
    {
      "cell_type": "code",
      "metadata": {
        "id": "GMw4fjfVKjew"
      },
      "source": [
        "!cp '/content/yolov5-dior.zip' 'drive/MyDrive'"
      ],
      "execution_count": 43,
      "outputs": []
    },
    {
      "cell_type": "code",
      "metadata": {
        "id": "CbKVJ89rnavh"
      },
      "source": [
        "#Testing"
      ],
      "execution_count": null,
      "outputs": []
    },
    {
      "cell_type": "code",
      "metadata": {
        "id": "1fYPY3Flu7E0"
      },
      "source": [
        "!cp 'drive/MyDrive/dior-yolov5.pt' '.'"
      ],
      "execution_count": 25,
      "outputs": []
    },
    {
      "cell_type": "code",
      "metadata": {
        "id": "iG6tQ6ELvP28"
      },
      "source": [
        "import tifffile\r\n",
        "from google.colab.patches import cv2_imshow\r\n",
        "import numpy as np\r\n",
        "import cv2\r\n",
        "rgbn = tifffile.imread('ProvoSuperCubeNNref.tif')[..., 1:4]\r\n",
        "image= 255*(rgbn / rgbn.max())\r\n",
        "image=image.astype(np.uint8)\r\n",
        "image=image[3500:3500+900,930:930+900]\r\n",
        "cv2.imwrite('sat.jpg',image)"
      ],
      "execution_count": null,
      "outputs": []
    },
    {
      "cell_type": "code",
      "metadata": {
        "id": "k3wvQJI-naza"
      },
      "source": [
        "!python yolov5/detect.py --img-size=4000 --source sat.jpg  --weights runs/train/exp4/weights/best.pt --conf 0.5"
      ],
      "execution_count": null,
      "outputs": []
    },
    {
      "cell_type": "code",
      "metadata": {
        "id": "WkpN3mhPQXA5"
      },
      "source": [
        "def NonOverlappingCropPatches(im, patch_size=800, stride=800): #generate patches of the image\r\n",
        "    h,w,z = im.shape\r\n",
        "    patches = []\r\n",
        "    for i in range(0, h - stride, stride):\r\n",
        "        for j in range(0, w - stride, stride):\r\n",
        "            patch = im[i:i + patch_size, j:j + patch_size,:]\r\n",
        "            patches.append(patch)\r\n",
        "    return patches"
      ],
      "execution_count": 14,
      "outputs": []
    },
    {
      "cell_type": "code",
      "metadata": {
        "id": "Mu9qPLQ-QlmB"
      },
      "source": [
        "!mkdir 'patches'"
      ],
      "execution_count": 12,
      "outputs": []
    },
    {
      "cell_type": "code",
      "metadata": {
        "id": "vuwxJdNsQckX"
      },
      "source": [
        "import tifffile\r\n",
        "import time\r\n",
        "import cv2\r\n",
        "import numpy as np\r\n",
        "from google.colab.patches import cv2_imshow\r\n",
        "rgbn = tifffile.imread('ProvoSuperCubeNNref.tif')[..., 1:4]\r\n",
        "image= 255*(rgbn / rgbn.max())\r\n",
        "image=image.astype(np.uint8)\r\n",
        "\r\n",
        "patches=NonOverlappingCropPatches(image, patch_size=800, stride=800)\r\n",
        "for ip,patch in enumerate(patches): #create patches \r\n",
        "  cv2.imwrite('patches/{}.jpg'.format(ip),patch)\r\n"
      ],
      "execution_count": 15,
      "outputs": []
    },
    {
      "cell_type": "code",
      "metadata": {
        "id": "_eFrSEQvQxme"
      },
      "source": [
        "!python yolov5/detect.py --img-size=4000 --source patches  --weights runs/train/exp4/weights/best.pt --conf 0.5"
      ],
      "execution_count": null,
      "outputs": []
    },
    {
      "cell_type": "code",
      "metadata": {
        "id": "t8Yw9YD3RFGX"
      },
      "source": [
        "import os\r\n",
        "img=np.zeros((6*800,2*800,3),dtype=np.uint8) \r\n",
        "data=[]\r\n",
        "for r,d,f in os.walk('/content/runs/detect/exp6'):\r\n",
        "  for file in f: \r\n",
        "    if file not in ['10.jpg','11.jpg']:\r\n",
        "      if '.jpg' in file:\r\n",
        "        data.append(os.path.join(r,file))\r\n",
        "data.sort()\r\n",
        "data.extend(['/content/runs/detect/exp6/10.jpg','/content/runs/detect/exp6/11.jpg'])\r\n",
        "\r\n",
        "#get the predicted patches"
      ],
      "execution_count": 26,
      "outputs": []
    },
    {
      "cell_type": "code",
      "metadata": {
        "id": "TbtJGJhkRNrO"
      },
      "source": [
        "#ensemble the patch images to image\r\n",
        "for id,item in enumerate(data): \r\n",
        "  temp=cv2.imread(item)\r\n",
        "  img[(id//2)*800:(1+id//2)*800,(id%2)*800:(1+id%2)*800,:]=temp\r\n",
        "  cv2.imwrite('im5.jpg',img)\r\n"
      ],
      "execution_count": 25,
      "outputs": []
    }
  ]
}